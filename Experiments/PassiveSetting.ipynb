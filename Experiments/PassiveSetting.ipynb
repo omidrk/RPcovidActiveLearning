{
  "nbformat": 4,
  "nbformat_minor": 0,
  "metadata": {
    "colab": {
      "name": "PassiveSetting.ipynb",
      "provenance": [],
      "collapsed_sections": []
    },
    "kernelspec": {
      "name": "python3",
      "display_name": "Python 3"
    },
    "accelerator": "GPU"
  },
  "cells": [
    {
      "cell_type": "code",
      "metadata": {
        "colab": {
          "base_uri": "https://localhost:8080/"
        },
        "id": "-nW-8StPOhv0",
        "outputId": "7b002823-b72b-4e05-a67e-315d1e11bb9f"
      },
      "source": [
        "!git clone https://github.com/omidrk/RPcovidActiveLearning.git"
      ],
      "execution_count": 1,
      "outputs": [
        {
          "output_type": "stream",
          "text": [
            "Cloning into 'RPcovidActiveLearning'...\n",
            "remote: Enumerating objects: 31, done.\u001b[K\n",
            "remote: Counting objects: 100% (31/31), done.\u001b[K\n",
            "remote: Compressing objects: 100% (23/23), done.\u001b[K\n",
            "remote: Total 31 (delta 12), reused 22 (delta 7), pack-reused 0\u001b[K\n",
            "Unpacking objects: 100% (31/31), done.\n"
          ],
          "name": "stdout"
        }
      ]
    },
    {
      "cell_type": "code",
      "metadata": {
        "id": "O5uug9qIRopL"
      },
      "source": [
        "!pip install captum"
      ],
      "execution_count": null,
      "outputs": []
    },
    {
      "cell_type": "code",
      "metadata": {
        "id": "oVMd29y4PLyn"
      },
      "source": [
        "import os\r\n",
        "os.chdir('/content/RPcovidActiveLearning')"
      ],
      "execution_count": 3,
      "outputs": []
    },
    {
      "cell_type": "markdown",
      "metadata": {
        "id": "_1CUk7-7Pxx5"
      },
      "source": [
        "First model is trained in passive mode. To achive this we defined 5 diffrent setting. Each setting, code have been changed menually so running the code wont reproduce the same result."
      ]
    },
    {
      "cell_type": "markdown",
      "metadata": {
        "id": "5eriVjAaQavq"
      },
      "source": [
        "First setting: train for 1 epoch and 20% of all dataset.\r\n",
        "Train with 18000 data, batch 100,180 iteration"
      ]
    },
    {
      "cell_type": "code",
      "metadata": {
        "colab": {
          "base_uri": "https://localhost:8080/"
        },
        "id": "VzBwZ0UrPQHW",
        "outputId": "dd854a42-dcc4-4ce5-bd5f-38092b0777c1"
      },
      "source": [
        "!python main.py"
      ],
      "execution_count": 8,
      "outputs": [
        {
          "output_type": "stream",
          "text": [
            "total trainning known batch number: 18000\n",
            "total trainning unknown batch number: 42000\n",
            "total testing batch number: 100\n",
            "Init known training...\n",
            "WTF..... /content/RPcovidActiveLearning\n",
            "Epoch: 1/1 batch: 10/180 iteration: 31/40 average-loss: 1.1003\n",
            "Epoch: 1/1 batch: 20/180 iteration: 31/40 average-loss: 0.5604\n",
            "Epoch: 1/1 batch: 30/180 iteration: 31/40 average-loss: 0.8058\n",
            "Epoch: 1/1 batch: 40/180 iteration: 31/40 average-loss: 0.5727\n",
            "Epoch: 1/1 batch: 50/180 iteration: 31/40 average-loss: 0.2903\n",
            "Epoch: 1/1 batch: 60/180 iteration: 31/40 average-loss: 0.3342\n",
            "Epoch: 1/1 batch: 70/180 iteration: 31/40 average-loss: 0.3144\n",
            "Epoch: 1/1 batch: 80/180 iteration: 31/40 average-loss: 0.3635\n",
            "Epoch: 1/1 batch: 90/180 iteration: 31/40 average-loss: 0.3338\n",
            "Epoch: 1/1 batch: 100/180 iteration: 31/40 average-loss: 0.3209\n",
            "Epoch: 1/1 batch: 110/180 iteration: 31/40 average-loss: 0.3224\n",
            "Epoch: 1/1 batch: 120/180 iteration: 31/40 average-loss: 0.1488\n",
            "Epoch: 1/1 batch: 130/180 iteration: 31/40 average-loss: 0.1874\n",
            "Epoch: 1/1 batch: 140/180 iteration: 31/40 average-loss: 0.4980\n",
            "Epoch: 1/1 batch: 150/180 iteration: 31/40 average-loss: 0.2147\n",
            "Epoch: 1/1 batch: 160/180 iteration: 31/40 average-loss: 0.2102\n",
            "Epoch: 1/1 batch: 170/180 iteration: 31/40 average-loss: 0.2076\n",
            "Epoch: 1/1 batch: 180/180 iteration: 31/40 average-loss: 0.3544\n",
            "Init validate method...\n",
            "Class accurecy is: \n",
            "[98.7755102  98.94273128 86.3372093  76.73267327 99.38900204 84.52914798\n",
            " 96.03340292 97.08171206 91.68377823 81.46679881]\n",
            "Final validation result...\n",
            "- accuracy: 0.910\n",
            "- precision: 0.886\n",
            "- recall: 0.928\n",
            "- f1: 0.887\n",
            "- classification average loss: 0.528\n"
          ],
          "name": "stdout"
        }
      ]
    },
    {
      "cell_type": "markdown",
      "metadata": {
        "id": "EoWKvybFSeKX"
      },
      "source": [
        "setting 2: epoch 2, batch 100"
      ]
    },
    {
      "cell_type": "code",
      "metadata": {
        "colab": {
          "base_uri": "https://localhost:8080/"
        },
        "id": "eDBm7GF7PVt_",
        "outputId": "f9611637-cb2e-4b1e-a63e-61e7a71cfdce"
      },
      "source": [
        "!python main.py"
      ],
      "execution_count": 9,
      "outputs": [
        {
          "output_type": "stream",
          "text": [
            "total trainning known batch number: 18000\n",
            "total trainning unknown batch number: 42000\n",
            "total testing batch number: 100\n",
            "Init known training...\n",
            "WTF..... /content/RPcovidActiveLearning\n",
            "Epoch: 1/2 batch: 10/180 iteration: 31/40 average-loss: 1.0378\n",
            "Epoch: 1/2 batch: 20/180 iteration: 31/40 average-loss: 0.5317\n",
            "Epoch: 1/2 batch: 30/180 iteration: 31/40 average-loss: 0.5844\n",
            "Epoch: 1/2 batch: 40/180 iteration: 31/40 average-loss: 0.4744\n",
            "Epoch: 1/2 batch: 50/180 iteration: 31/40 average-loss: 0.6349\n",
            "Epoch: 1/2 batch: 60/180 iteration: 31/40 average-loss: 0.3672\n",
            "Epoch: 1/2 batch: 70/180 iteration: 31/40 average-loss: 0.3769\n",
            "Epoch: 1/2 batch: 80/180 iteration: 31/40 average-loss: 0.3439\n",
            "Epoch: 1/2 batch: 90/180 iteration: 31/40 average-loss: 0.3597\n",
            "Epoch: 1/2 batch: 100/180 iteration: 31/40 average-loss: 0.2748\n",
            "Epoch: 1/2 batch: 110/180 iteration: 31/40 average-loss: 0.2772\n",
            "Epoch: 1/2 batch: 120/180 iteration: 31/40 average-loss: 0.2602\n",
            "Epoch: 1/2 batch: 130/180 iteration: 31/40 average-loss: 0.0934\n",
            "Epoch: 1/2 batch: 140/180 iteration: 31/40 average-loss: 0.4130\n",
            "Epoch: 1/2 batch: 150/180 iteration: 31/40 average-loss: 0.1371\n",
            "Epoch: 1/2 batch: 160/180 iteration: 31/40 average-loss: 0.1232\n",
            "Epoch: 1/2 batch: 170/180 iteration: 31/40 average-loss: 0.1604\n",
            "Epoch: 1/2 batch: 180/180 iteration: 31/40 average-loss: 0.1993\n",
            "WTF..... /content/RPcovidActiveLearning\n",
            "Epoch: 2/2 batch: 10/180 iteration: 31/40 average-loss: 0.2581\n",
            "Epoch: 2/2 batch: 20/180 iteration: 31/40 average-loss: 0.1609\n",
            "Epoch: 2/2 batch: 30/180 iteration: 31/40 average-loss: 0.1485\n",
            "Epoch: 2/2 batch: 40/180 iteration: 31/40 average-loss: 0.2120\n",
            "Epoch: 2/2 batch: 50/180 iteration: 31/40 average-loss: 0.1911\n",
            "Epoch: 2/2 batch: 60/180 iteration: 31/40 average-loss: 0.2019\n",
            "Epoch: 2/2 batch: 70/180 iteration: 31/40 average-loss: 0.2053\n",
            "Epoch: 2/2 batch: 80/180 iteration: 31/40 average-loss: 0.2180\n",
            "Epoch: 2/2 batch: 90/180 iteration: 31/40 average-loss: 0.1764\n",
            "Epoch: 2/2 batch: 100/180 iteration: 31/40 average-loss: 0.0841\n",
            "Epoch: 2/2 batch: 110/180 iteration: 31/40 average-loss: 0.1696\n",
            "Epoch: 2/2 batch: 120/180 iteration: 31/40 average-loss: 0.1852\n",
            "Epoch: 2/2 batch: 130/180 iteration: 31/40 average-loss: 0.0942\n",
            "Epoch: 2/2 batch: 140/180 iteration: 31/40 average-loss: 0.1367\n",
            "Epoch: 2/2 batch: 150/180 iteration: 31/40 average-loss: 0.3178\n",
            "Epoch: 2/2 batch: 160/180 iteration: 31/40 average-loss: 0.1069\n",
            "Epoch: 2/2 batch: 170/180 iteration: 31/40 average-loss: 0.0690\n",
            "Epoch: 2/2 batch: 180/180 iteration: 31/40 average-loss: 0.0929\n",
            "Init validate method...\n",
            "Class accurecy is: \n",
            "[92.44897959 99.20704846 87.5        97.22772277 95.51934827 97.98206278\n",
            " 84.02922756 97.66536965 74.43531828 76.70961348]\n",
            "Final validation result...\n",
            "- accuracy: 0.900\n",
            "- precision: 0.890\n",
            "- recall: 0.924\n",
            "- f1: 0.899\n",
            "- classification average loss: 0.205\n"
          ],
          "name": "stdout"
        }
      ]
    },
    {
      "cell_type": "markdown",
      "metadata": {
        "id": "_D1fp9ZqTAsP"
      },
      "source": [
        "Setting 3: epoch 5, batch 100"
      ]
    },
    {
      "cell_type": "code",
      "metadata": {
        "colab": {
          "base_uri": "https://localhost:8080/"
        },
        "id": "DXo8optITFNu",
        "outputId": "e70d1a36-5c08-4f1a-a0d8-8e756ef9f941"
      },
      "source": [
        "!python main.py"
      ],
      "execution_count": 10,
      "outputs": [
        {
          "output_type": "stream",
          "text": [
            "total trainning known batch number: 18000\n",
            "total trainning unknown batch number: 42000\n",
            "total testing batch number: 100\n",
            "Init known training...\n",
            "WTF..... /content/RPcovidActiveLearning\n",
            "Epoch: 1/5 batch: 60/180 iteration: 31/40 average-loss: 0.3256\n",
            "Epoch: 1/5 batch: 120/180 iteration: 31/40 average-loss: 0.3859\n",
            "Epoch: 1/5 batch: 180/180 iteration: 31/40 average-loss: 0.2933\n",
            "WTF..... /content/RPcovidActiveLearning\n",
            "Epoch: 2/5 batch: 60/180 iteration: 31/40 average-loss: 0.1743\n",
            "Epoch: 2/5 batch: 120/180 iteration: 31/40 average-loss: 0.1897\n",
            "Epoch: 2/5 batch: 180/180 iteration: 31/40 average-loss: 0.0474\n",
            "WTF..... /content/RPcovidActiveLearning\n",
            "Epoch: 3/5 batch: 60/180 iteration: 31/40 average-loss: 0.1580\n",
            "Epoch: 3/5 batch: 120/180 iteration: 31/40 average-loss: 0.0832\n",
            "Epoch: 3/5 batch: 180/180 iteration: 31/40 average-loss: 0.2480\n",
            "WTF..... /content/RPcovidActiveLearning\n",
            "Epoch: 4/5 batch: 60/180 iteration: 31/40 average-loss: 0.1352\n",
            "Epoch: 4/5 batch: 120/180 iteration: 31/40 average-loss: 0.0404\n",
            "Epoch: 4/5 batch: 180/180 iteration: 31/40 average-loss: 0.0834\n",
            "WTF..... /content/RPcovidActiveLearning\n",
            "Epoch: 5/5 batch: 60/180 iteration: 31/40 average-loss: 0.0423\n",
            "Epoch: 5/5 batch: 120/180 iteration: 31/40 average-loss: 0.0312\n",
            "Epoch: 5/5 batch: 180/180 iteration: 31/40 average-loss: 0.0365\n",
            "Init validate method...\n",
            "Class accurecy is: \n",
            "[98.46938776 97.97356828 95.93023256 94.95049505 98.47250509 98.31838565\n",
            " 98.22546973 91.34241245 99.07597536 96.63032706]\n",
            "Final validation result...\n",
            "- accuracy: 0.970\n",
            "- precision: 0.963\n",
            "- recall: 0.976\n",
            "- f1: 0.967\n",
            "- classification average loss: 0.058\n"
          ],
          "name": "stdout"
        }
      ]
    }
  ]
}