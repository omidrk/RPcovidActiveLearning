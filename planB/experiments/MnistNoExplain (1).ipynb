{
  "nbformat": 4,
  "nbformat_minor": 0,
  "metadata": {
    "colab": {
      "name": "MnistNoExplain.ipynb",
      "provenance": [],
      "collapsed_sections": []
    },
    "kernelspec": {
      "name": "python3",
      "display_name": "Python 3"
    },
    "accelerator": "GPU"
  },
  "cells": [
    {
      "cell_type": "code",
      "metadata": {
        "id": "15J6-_QJGxpF",
        "colab": {
          "base_uri": "https://localhost:8080/"
        },
        "outputId": "a01f4d91-2c98-48e0-eb43-2822e39e7b4b"
      },
      "source": [
        "!pip install captum"
      ],
      "execution_count": 1,
      "outputs": [
        {
          "output_type": "stream",
          "text": [
            "Collecting captum\n",
            "\u001b[?25l  Downloading https://files.pythonhosted.org/packages/bf/27/e6d97c600cabc38b860ead2f6be243d819ff3d259bc3195b7d2ed943ba5d/captum-0.3.0-py3-none-any.whl (5.7MB)\n",
            "\u001b[K     |████████████████████████████████| 5.7MB 6.6MB/s \n",
            "\u001b[?25hRequirement already satisfied: torch>=1.2 in /usr/local/lib/python3.6/dist-packages (from captum) (1.7.0+cu101)\n",
            "Requirement already satisfied: numpy in /usr/local/lib/python3.6/dist-packages (from captum) (1.19.5)\n",
            "Requirement already satisfied: matplotlib in /usr/local/lib/python3.6/dist-packages (from captum) (3.2.2)\n",
            "Requirement already satisfied: dataclasses in /usr/local/lib/python3.6/dist-packages (from torch>=1.2->captum) (0.8)\n",
            "Requirement already satisfied: typing-extensions in /usr/local/lib/python3.6/dist-packages (from torch>=1.2->captum) (3.7.4.3)\n",
            "Requirement already satisfied: future in /usr/local/lib/python3.6/dist-packages (from torch>=1.2->captum) (0.16.0)\n",
            "Requirement already satisfied: kiwisolver>=1.0.1 in /usr/local/lib/python3.6/dist-packages (from matplotlib->captum) (1.3.1)\n",
            "Requirement already satisfied: pyparsing!=2.0.4,!=2.1.2,!=2.1.6,>=2.0.1 in /usr/local/lib/python3.6/dist-packages (from matplotlib->captum) (2.4.7)\n",
            "Requirement already satisfied: cycler>=0.10 in /usr/local/lib/python3.6/dist-packages (from matplotlib->captum) (0.10.0)\n",
            "Requirement already satisfied: python-dateutil>=2.1 in /usr/local/lib/python3.6/dist-packages (from matplotlib->captum) (2.8.1)\n",
            "Requirement already satisfied: six in /usr/local/lib/python3.6/dist-packages (from cycler>=0.10->matplotlib->captum) (1.15.0)\n",
            "Installing collected packages: captum\n",
            "Successfully installed captum-0.3.0\n"
          ],
          "name": "stdout"
        }
      ]
    },
    {
      "cell_type": "code",
      "metadata": {
        "id": "zQQYeGHqG3Ph",
        "colab": {
          "base_uri": "https://localhost:8080/"
        },
        "outputId": "6f612abe-7dc2-4bc3-f5d1-513887505578"
      },
      "source": [
        "!pip install plotly"
      ],
      "execution_count": 2,
      "outputs": [
        {
          "output_type": "stream",
          "text": [
            "Requirement already satisfied: plotly in /usr/local/lib/python3.6/dist-packages (4.4.1)\n",
            "Requirement already satisfied: retrying>=1.3.3 in /usr/local/lib/python3.6/dist-packages (from plotly) (1.3.3)\n",
            "Requirement already satisfied: six in /usr/local/lib/python3.6/dist-packages (from plotly) (1.15.0)\n"
          ],
          "name": "stdout"
        }
      ]
    },
    {
      "cell_type": "code",
      "metadata": {
        "colab": {
          "base_uri": "https://localhost:8080/"
        },
        "id": "LQI5UzwOJdYC",
        "outputId": "59573359-d865-4da6-fdb1-9f2773747c08"
      },
      "source": [
        "!python main.py"
      ],
      "execution_count": 66,
      "outputs": [
        {
          "output_type": "stream",
          "text": [
            "total trainning known batch number: 8000\n",
            "total trainning unknown batch number: 52000\n",
            "total testing batch number: 100\n",
            "Init known training...\n",
            "WTF..... /content\n",
            "Epoch: 1/1 batch: 10/267 iteration: 31/40 average-loss: 2.0369\n",
            "Epoch: 1/1 batch: 20/267 iteration: 31/40 average-loss: 1.0696\n",
            "Epoch: 1/1 batch: 30/267 iteration: 31/40 average-loss: 1.0344\n",
            "Epoch: 1/1 batch: 40/267 iteration: 31/40 average-loss: 0.8315\n",
            "Epoch: 1/1 batch: 50/267 iteration: 31/40 average-loss: 0.3772\n",
            "Epoch: 1/1 batch: 60/267 iteration: 31/40 average-loss: 0.5226\n",
            "Epoch: 1/1 batch: 70/267 iteration: 31/40 average-loss: 0.2551\n",
            "Epoch: 1/1 batch: 80/267 iteration: 31/40 average-loss: 0.3565\n",
            "Epoch: 1/1 batch: 90/267 iteration: 31/40 average-loss: 0.2026\n",
            "Epoch: 1/1 batch: 100/267 iteration: 31/40 average-loss: 0.2951\n",
            "Epoch: 1/1 batch: 110/267 iteration: 31/40 average-loss: 0.3275\n",
            "Epoch: 1/1 batch: 120/267 iteration: 31/40 average-loss: 0.1926\n",
            "Epoch: 1/1 batch: 130/267 iteration: 31/40 average-loss: 0.0716\n",
            "Epoch: 1/1 batch: 140/267 iteration: 31/40 average-loss: 0.0753\n",
            "Epoch: 1/1 batch: 150/267 iteration: 31/40 average-loss: 0.5382\n",
            "Epoch: 1/1 batch: 160/267 iteration: 31/40 average-loss: 0.6715\n",
            "Epoch: 1/1 batch: 170/267 iteration: 31/40 average-loss: 0.1456\n",
            "Epoch: 1/1 batch: 180/267 iteration: 31/40 average-loss: 0.2305\n",
            "Epoch: 1/1 batch: 190/267 iteration: 31/40 average-loss: 0.8023\n",
            "Epoch: 1/1 batch: 200/267 iteration: 31/40 average-loss: 0.0898\n",
            "Epoch: 1/1 batch: 210/267 iteration: 31/40 average-loss: 0.2024\n",
            "Epoch: 1/1 batch: 220/267 iteration: 31/40 average-loss: 0.0337\n",
            "Epoch: 1/1 batch: 230/267 iteration: 31/40 average-loss: 0.2079\n",
            "Epoch: 1/1 batch: 240/267 iteration: 31/40 average-loss: 0.1105\n",
            "Epoch: 1/1 batch: 250/267 iteration: 31/40 average-loss: 0.4588\n",
            "Epoch: 1/1 batch: 260/267 iteration: 31/40 average-loss: 0.1159\n",
            "Init validate method...\n",
            "Class accurecy is: \n",
            "[98.26530612 98.41409692 96.99612403 97.92079208 93.99185336 95.29147982\n",
            " 96.03340292 96.20622568 95.58521561 97.62140733]\n",
            "Final validation result...\n",
            "- accuracy: 0.980\n",
            "- precision: 0.982\n",
            "- recall: 0.978\n",
            "- f1: 0.978\n",
            "- classification average loss: 0.116\n",
            "[[ 963    0    0    0    1    1   11    1    1    2]\n",
            " [   0 1117    4    1    0    0    3    2    8    0]\n",
            " [   1    3 1001   12    4    0    0    8    3    0]\n",
            " [   1    0    3  989    0    2    0    9    3    3]\n",
            " [   1    1    2    0  923    0    0    0    2   53]\n",
            " [   2    0    0   32    0  850    1    0    4    3]\n",
            " [   3    6    0    0   10    6  920    0   13    0]\n",
            " [   0    3   16    0    0    2    0  989    1   17]\n",
            " [   4    0    4    6    1    3    0    2  931   23]\n",
            " [   1    1    0    3    7    5    0    4    3  985]]\n",
            "Calculate sample probability...\n",
            "Init probability sampling method...\n",
            "Sample probability done.\n",
            "start moving from unknown to known ...\n",
            "moved all new samples from unknown to known.\n",
            "Train started again...\n",
            "Init known training with explanation...\n",
            "/usr/local/lib/python3.6/dist-packages/captum/_utils/gradient.py:55: UserWarning: Input Tensor 0 did not already require gradients, required_grads has been set automatically.\n",
            "  \"required_grads has been set automatically.\" % index\n",
            "/content/ModelManager.py:272: UserWarning: This overload of nonzero is deprecated:\n",
            "\tnonzero()\n",
            "Consider using one of the following signatures instead:\n",
            "\tnonzero(*, bool as_tuple) (Triggered internally at  /pytorch/torch/csrc/utils/python_arg_parser.cpp:882.)\n",
            "  z = z.nonzero()\n",
            "tensor(4, device='cuda:0') tensor(8, device='cuda:0') 23\n",
            "<Figure size 800x1000 with 2 Axes>\n",
            "<Figure size 800x1000 with 2 Axes>\n",
            "tensor(0.0933, device='cuda:0', grad_fn=<NllLossBackward>) tensor(0.0709, device='cuda:0', grad_fn=<MseLossBackward>)\n",
            "/usr/local/lib/python3.6/dist-packages/captum/_utils/gradient.py:55: UserWarning: Input Tensor 0 did not already require gradients, required_grads has been set automatically.\n",
            "  \"required_grads has been set automatically.\" % index\n",
            "Epoch: 1/1 batch: 10/270 iteration: 31/40 average-loss: 1.1199\n",
            "Epoch: 1/1 batch: 20/270 iteration: 31/40 average-loss: 0.2739\n",
            "Epoch: 1/1 batch: 30/270 iteration: 31/40 average-loss: 0.2392\n",
            "tensor(0.0311, device='cuda:0', grad_fn=<NllLossBackward>) tensor(0.0257, device='cuda:0', grad_fn=<MseLossBackward>)\n",
            "Epoch: 1/1 batch: 40/270 iteration: 31/40 average-loss: 0.4811\n",
            "Epoch: 1/1 batch: 50/270 iteration: 31/40 average-loss: 0.0807\n",
            "Epoch: 1/1 batch: 60/270 iteration: 31/40 average-loss: 0.0625\n",
            "tensor(1, device='cuda:0') tensor(1, device='cuda:0') 0\n",
            "<Figure size 1200x1200 with 1 Axes>\n",
            "<Figure size 1500x1000 with 2 Axes>\n",
            "<Figure size 800x1000 with 2 Axes>\n",
            "<Figure size 800x1000 with 2 Axes>\n",
            "tensor(0.0084, device='cuda:0', grad_fn=<NllLossBackward>) tensor(0.0583, device='cuda:0', grad_fn=<MseLossBackward>)\n",
            "Epoch: 1/1 batch: 70/270 iteration: 31/40 average-loss: 0.1532\n",
            "Epoch: 1/1 batch: 80/270 iteration: 31/40 average-loss: 0.6966\n",
            "Epoch: 1/1 batch: 90/270 iteration: 31/40 average-loss: 0.2547\n",
            "tensor(0.1736, device='cuda:0', grad_fn=<NllLossBackward>) tensor(0.0938, device='cuda:0', grad_fn=<MseLossBackward>)\n",
            "Epoch: 1/1 batch: 100/270 iteration: 31/40 average-loss: 0.2944\n",
            "Epoch: 1/1 batch: 110/270 iteration: 31/40 average-loss: 0.2456\n",
            "Epoch: 1/1 batch: 120/270 iteration: 31/40 average-loss: 0.2002\n",
            "tensor(0, device='cuda:0') tensor(7, device='cuda:0') 13\n",
            "<Figure size 1200x1200 with 1 Axes>\n",
            "<Figure size 1500x1000 with 2 Axes>\n",
            "<Figure size 800x1000 with 2 Axes>\n",
            "<Figure size 800x1000 with 2 Axes>\n",
            "tensor(0.5107, device='cuda:0', grad_fn=<NllLossBackward>) tensor(0.0749, device='cuda:0', grad_fn=<MseLossBackward>)\n",
            "Epoch: 1/1 batch: 130/270 iteration: 31/40 average-loss: 0.3327\n",
            "Epoch: 1/1 batch: 140/270 iteration: 31/40 average-loss: 0.3408\n",
            "Epoch: 1/1 batch: 150/270 iteration: 31/40 average-loss: 0.1739\n",
            "tensor(0.0957, device='cuda:0', grad_fn=<NllLossBackward>) tensor(0.0413, device='cuda:0', grad_fn=<MseLossBackward>)\n",
            "Epoch: 1/1 batch: 160/270 iteration: 31/40 average-loss: 0.0727\n",
            "Epoch: 1/1 batch: 170/270 iteration: 31/40 average-loss: 0.1297\n",
            "Epoch: 1/1 batch: 180/270 iteration: 31/40 average-loss: 0.0041\n",
            "tensor(8, device='cuda:0') tensor(3, device='cuda:0') 17\n",
            "<Figure size 1200x1200 with 1 Axes>\n",
            "<Figure size 1500x1000 with 2 Axes>\n",
            "<Figure size 800x1000 with 2 Axes>\n",
            "<Figure size 800x1000 with 2 Axes>\n",
            "tensor(0.4363, device='cuda:0', grad_fn=<NllLossBackward>) tensor(0.2163, device='cuda:0', grad_fn=<MseLossBackward>)\n",
            "Epoch: 1/1 batch: 190/270 iteration: 31/40 average-loss: 0.2677\n",
            "Epoch: 1/1 batch: 200/270 iteration: 31/40 average-loss: 0.2593\n",
            "Epoch: 1/1 batch: 210/270 iteration: 31/40 average-loss: 0.2526\n",
            "tensor(0.2194, device='cuda:0', grad_fn=<NllLossBackward>) tensor(0.1176, device='cuda:0', grad_fn=<MseLossBackward>)\n",
            "Epoch: 1/1 batch: 220/270 iteration: 31/40 average-loss: 0.2545\n",
            "Epoch: 1/1 batch: 230/270 iteration: 31/40 average-loss: 0.0220\n",
            "Epoch: 1/1 batch: 240/270 iteration: 31/40 average-loss: 0.0160\n",
            "tensor(3, device='cuda:0') tensor(7, device='cuda:0') 14\n",
            "<Figure size 1200x1200 with 1 Axes>\n",
            "<Figure size 1500x1000 with 2 Axes>\n",
            "<Figure size 800x1000 with 2 Axes>\n",
            "<Figure size 800x1000 with 2 Axes>\n",
            "tensor(0.8957, device='cuda:0', grad_fn=<NllLossBackward>) tensor(0.0576, device='cuda:0', grad_fn=<MseLossBackward>)\n",
            "Epoch: 1/1 batch: 250/270 iteration: 31/40 average-loss: 0.3638\n",
            "Epoch: 1/1 batch: 260/270 iteration: 31/40 average-loss: 0.4790\n",
            "Epoch: 1/1 batch: 270/270 iteration: 31/40 average-loss: 0.0624\n",
            "Init validate method...\n",
            "Class accurecy is: \n",
            "[99.69387755 99.47136564 95.15503876 94.95049505 97.35234216 94.39461883\n",
            " 95.40709812 98.73540856 97.02258727 94.54905847]\n",
            "Final validation result...\n",
            "- accuracy: 0.960\n",
            "- precision: 0.952\n",
            "- recall: 0.967\n",
            "- f1: 0.956\n",
            "- classification average loss: 0.118\n",
            "[[ 977    0    0    0    0    0    1    1    1    0]\n",
            " [   0 1129    1    5    0    0    0    0    0    0]\n",
            " [  20   15  982    2    0    0    0   11    2    0]\n",
            " [   7    0    5  959    0   16    0   10   13    0]\n",
            " [   4    1    2    2  956    0    1    0    4   12]\n",
            " [  20    0    0    8    0  842    1    1   20    0]\n",
            " [  22    2    0    0    4   12  914    0    4    0]\n",
            " [   1    5    4    2    0    0    0 1015    0    1]\n",
            " [  13    1    3    2    0    0    1    4  945    5]\n",
            " [  13    0    0    4    4    2    0   20   12  954]]\n",
            "Calculate sample probability...\n",
            "Init probability sampling method...\n",
            "Sample probability done.\n",
            "start moving from unknown to known ...\n",
            "moved all new samples from unknown to known.\n",
            "Train started again...\n",
            "Init known training with explanation...\n",
            "tensor(4, device='cuda:0') tensor(0, device='cuda:0') 29\n",
            "<Figure size 1200x1200 with 1 Axes>\n",
            "<Figure size 1500x1000 with 2 Axes>\n",
            "<Figure size 800x1000 with 2 Axes>\n",
            "<Figure size 800x1000 with 2 Axes>\n",
            "tensor(0.4151, device='cuda:0', grad_fn=<NllLossBackward>) tensor(0.0789, device='cuda:0', grad_fn=<MseLossBackward>)\n",
            "Epoch: 1/1 batch: 10/274 iteration: 31/40 average-loss: 0.0001\n",
            "Epoch: 1/1 batch: 20/274 iteration: 31/40 average-loss: 0.0056\n",
            "Epoch: 1/1 batch: 30/274 iteration: 31/40 average-loss: 0.0021\n",
            "tensor(0.1791, device='cuda:0', grad_fn=<NllLossBackward>) tensor(0.0647, device='cuda:0', grad_fn=<MseLossBackward>)\n",
            "Epoch: 1/1 batch: 40/274 iteration: 31/40 average-loss: 0.1849\n",
            "Epoch: 1/1 batch: 50/274 iteration: 31/40 average-loss: 0.2978\n",
            "Epoch: 1/1 batch: 60/274 iteration: 31/40 average-loss: 0.0897\n",
            "tensor(7, device='cuda:0') tensor(9, device='cuda:0') 25\n",
            "<Figure size 1200x1200 with 1 Axes>\n",
            "<Figure size 1500x1000 with 2 Axes>\n",
            "<Figure size 800x1000 with 2 Axes>\n",
            "<Figure size 800x1000 with 2 Axes>\n",
            "tensor(0.2902, device='cuda:0', grad_fn=<NllLossBackward>) tensor(0.0919, device='cuda:0', grad_fn=<MseLossBackward>)\n",
            "Epoch: 1/1 batch: 70/274 iteration: 31/40 average-loss: 0.5887\n",
            "Epoch: 1/1 batch: 80/274 iteration: 31/40 average-loss: 0.4260\n",
            "Epoch: 1/1 batch: 90/274 iteration: 31/40 average-loss: 0.2105\n",
            "tensor(0.1176, device='cuda:0', grad_fn=<NllLossBackward>) tensor(0.0383, device='cuda:0', grad_fn=<MseLossBackward>)\n",
            "Epoch: 1/1 batch: 100/274 iteration: 31/40 average-loss: 0.1645\n",
            "Epoch: 1/1 batch: 110/274 iteration: 31/40 average-loss: 0.0253\n",
            "Epoch: 1/1 batch: 120/274 iteration: 31/40 average-loss: 0.0566\n",
            "tensor(1, device='cuda:0') tensor(4, device='cuda:0') 12\n",
            "<Figure size 1200x1200 with 1 Axes>\n",
            "<Figure size 1500x1000 with 2 Axes>\n",
            "<Figure size 800x1000 with 2 Axes>\n",
            "<Figure size 800x1000 with 2 Axes>\n",
            "tensor(0.0663, device='cuda:0', grad_fn=<NllLossBackward>) tensor(0.0185, device='cuda:0', grad_fn=<MseLossBackward>)\n",
            "Epoch: 1/1 batch: 130/274 iteration: 31/40 average-loss: 0.0061\n",
            "Epoch: 1/1 batch: 140/274 iteration: 31/40 average-loss: 0.0004\n",
            "Epoch: 1/1 batch: 150/274 iteration: 31/40 average-loss: 0.0013\n",
            "tensor(0.0021, device='cuda:0', grad_fn=<NllLossBackward>) tensor(0.0305, device='cuda:0', grad_fn=<MseLossBackward>)\n",
            "Epoch: 1/1 batch: 160/274 iteration: 31/40 average-loss: 0.0093\n",
            "Epoch: 1/1 batch: 170/274 iteration: 31/40 average-loss: 0.2160\n",
            "Epoch: 1/1 batch: 180/274 iteration: 31/40 average-loss: 0.0879\n",
            "tensor(7, device='cuda:0') tensor(7, device='cuda:0') 0\n",
            "<Figure size 1200x1200 with 1 Axes>\n",
            "<Figure size 1500x1000 with 2 Axes>\n",
            "<Figure size 800x1000 with 2 Axes>\n",
            "<Figure size 800x1000 with 2 Axes>\n",
            "tensor(0.0291, device='cuda:0', grad_fn=<NllLossBackward>) tensor(0.0465, device='cuda:0', grad_fn=<MseLossBackward>)\n",
            "Epoch: 1/1 batch: 190/274 iteration: 31/40 average-loss: 0.0008\n",
            "Epoch: 1/1 batch: 200/274 iteration: 31/40 average-loss: 0.0390\n",
            "Epoch: 1/1 batch: 210/274 iteration: 31/40 average-loss: 0.0011\n",
            "tensor(0.0532, device='cuda:0', grad_fn=<NllLossBackward>) tensor(0.1413, device='cuda:0', grad_fn=<MseLossBackward>)\n",
            "Epoch: 1/1 batch: 220/274 iteration: 31/40 average-loss: 0.1601\n",
            "Epoch: 1/1 batch: 230/274 iteration: 31/40 average-loss: 0.0636\n",
            "Epoch: 1/1 batch: 240/274 iteration: 31/40 average-loss: 0.1750\n",
            "tensor(7, device='cuda:0') tensor(9, device='cuda:0') 12\n",
            "<Figure size 1200x1200 with 1 Axes>\n",
            "<Figure size 1500x1000 with 2 Axes>\n",
            "<Figure size 800x1000 with 2 Axes>\n",
            "<Figure size 800x1000 with 2 Axes>\n",
            "tensor(0.2169, device='cuda:0', grad_fn=<NllLossBackward>) tensor(0.1007, device='cuda:0', grad_fn=<MseLossBackward>)\n",
            "Epoch: 1/1 batch: 250/274 iteration: 31/40 average-loss: 0.1881\n",
            "Epoch: 1/1 batch: 260/274 iteration: 31/40 average-loss: 0.0706\n",
            "Epoch: 1/1 batch: 270/274 iteration: 31/40 average-loss: 0.0338\n",
            "tensor(0.2853, device='cuda:0', grad_fn=<NllLossBackward>) tensor(0.0718, device='cuda:0', grad_fn=<MseLossBackward>)\n",
            "Init validate method...\n",
            "Class accurecy is: \n",
            "[97.75510204 97.44493392 99.90310078 92.67326733 98.06517312 98.65470852\n",
            " 93.63256785 95.23346304 98.87063655 95.04459861]\n",
            "Final validation result...\n",
            "- accuracy: 0.980\n",
            "- precision: 0.973\n",
            "- recall: 0.982\n",
            "- f1: 0.976\n",
            "- classification average loss: 0.058\n",
            "[[ 958    0    6    0    3    0    9    0    3    1]\n",
            " [   0 1106   26    0    1    0    0    1    1    0]\n",
            " [   0    0 1031    0    0    0    0    1    0    0]\n",
            " [   0    0   46  936    0   19    0    3    6    0]\n",
            " [   0    0   13    0  963    0    1    0    2    3]\n",
            " [   2    0    2    1    0  880    6    0    1    0]\n",
            " [   0    2   26    0   13    1  897    0   19    0]\n",
            " [   0    1   37    0    2    0    0  979    1    8]\n",
            " [   0    0    8    0    0    0    0    0  963    3]\n",
            " [   1    0    1    0   14   27    0    3    4  959]]\n"
          ],
          "name": "stdout"
        }
      ]
    },
    {
      "cell_type": "code",
      "metadata": {
        "id": "sH8bjj3nbpJl"
      },
      "source": [
        "import torch\r\n",
        "test = torch.load('/content/data/MNIST/processed/test.pt')"
      ],
      "execution_count": null,
      "outputs": []
    },
    {
      "cell_type": "code",
      "metadata": {
        "colab": {
          "base_uri": "https://localhost:8080/",
          "height": 265
        },
        "id": "ERU7TV20bvjO",
        "outputId": "f6d4a512-30aa-49be-8bf9-bd07bacbc8bb"
      },
      "source": [
        "import matplotlib.pyplot as plt\r\n",
        "plt.imshow(test[0][100])\r\n",
        "mymg = test[0][100].numpy()"
      ],
      "execution_count": null,
      "outputs": [
        {
          "output_type": "display_data",
          "data": {
            "image/png": "[encoded data removed]",
            "text/plain": [
              "<Figure size 432x288 with 1 Axes>"
            ]
          },
          "metadata": {
            "tags": [],
            "needs_background": "light"
          }
        }
      ]
    },
    {
      "cell_type": "code",
      "metadata": {
        "colab": {
          "base_uri": "https://localhost:8080/",
          "height": 285
        },
        "id": "tEiHNaIEbwtU",
        "outputId": "8f4520e7-cc7c-426e-b3b5-21fd2ed51e04"
      },
      "source": [
        "from PIL import Image\r\n",
        "imgg = Image.fromarray(mymg)\r\n",
        "imgg = imgg.resize((64,64),Image.BILINEAR)\r\n",
        "plt.imshow(imgg)"
      ],
      "execution_count": null,
      "outputs": [
        {
          "output_type": "execute_result",
          "data": {
            "text/plain": [
              "<matplotlib.image.AxesImage at 0x7fcfe728e550>"
            ]
          },
          "metadata": {
            "tags": []
          },
          "execution_count": 22
        },
        {
          "output_type": "display_data",
          "data": {
            "image/png": "[encoded data removed]",
            "text/plain": [
              "<Figure size 432x288 with 1 Axes>"
            ]
          },
          "metadata": {
            "tags": [],
            "needs_background": "light"
          }
        }
      ]
    },
    {
      "cell_type": "code",
      "metadata": {
        "colab": {
          "base_uri": "https://localhost:8080/"
        },
        "id": "evV62PVMeSJq",
        "outputId": "e2689d16-7e73-432b-db29-0461657de99f"
      },
      "source": [
        "from DS import *\r\n",
        "a = LoadData('./data')\r\n",
        "a,b,c = a()"
      ],
      "execution_count": null,
      "outputs": [
        {
          "output_type": "stream",
          "text": [
            "total trainning known batch number: 8000\n",
            "total trainning unknown batch number: 52000\n",
            "total testing batch number: 100\n"
          ],
          "name": "stdout"
        }
      ]
    },
    {
      "cell_type": "code",
      "metadata": {
        "colab": {
          "base_uri": "https://localhost:8080/",
          "height": 609
        },
        "id": "1CSKYUSVfebs",
        "outputId": "155d1fac-de54-4bca-9dd8-d9c09a237f34"
      },
      "source": [
        "plt.figure(figsize=(18,10))\r\n",
        "plt.imshow(a.dataset[601][0].squeeze().numpy())\r\n"
      ],
      "execution_count": null,
      "outputs": [
        {
          "output_type": "execute_result",
          "data": {
            "text/plain": [
              "<matplotlib.image.AxesImage at 0x7fcfddff3860>"
            ]
          },
          "metadata": {
            "tags": []
          },
          "execution_count": 38
        },
        {
          "output_type": "display_data",
          "data": {
            "image/png": "[encoded data removed]",
            "text/plain": [
              "<Figure size 1296x720 with 1 Axes>"
            ]
          },
          "metadata": {
            "tags": [],
            "needs_background": "light"
          }
        }
      ]
    },
    {
      "cell_type": "code",
      "metadata": {
        "id": "wMaaLx8zfuZS",
        "colab": {
          "base_uri": "https://localhost:8080/"
        },
        "outputId": "fce0db95-5e69-44dc-ed59-1140ed370995"
      },
      "source": [
        "!zip -r content.zip /content"
      ],
      "execution_count": 29,
      "outputs": [
        {
          "output_type": "stream",
          "text": [
            "  adding: content/ (stored 0%)\n",
            "  adding: content/.config/ (stored 0%)\n",
            "  adding: content/.config/.last_opt_in_prompt.yaml (stored 0%)\n",
            "  adding: content/.config/configurations/ (stored 0%)\n",
            "  adding: content/.config/configurations/config_default (deflated 15%)\n",
            "  adding: content/.config/config_sentinel (stored 0%)\n",
            "  adding: content/.config/gce (stored 0%)\n",
            "  adding: content/.config/active_config (stored 0%)\n",
            "  adding: content/.config/.last_update_check.json (deflated 22%)\n",
            "  adding: content/.config/logs/ (stored 0%)\n",
            "  adding: content/.config/logs/2021.01.06/ (stored 0%)\n",
            "  adding: content/.config/logs/2021.01.06/18.08.59.464978.log (deflated 92%)\n",
            "  adding: content/.config/logs/2021.01.06/18.09.18.488400.log (deflated 54%)\n",
            "  adding: content/.config/logs/2021.01.06/18.09.37.271649.log (deflated 54%)\n",
            "  adding: content/.config/logs/2021.01.06/18.09.52.643360.log (deflated 53%)\n",
            "  adding: content/.config/logs/2021.01.06/18.09.52.134983.log (deflated 54%)\n",
            "  adding: content/.config/logs/2021.01.06/18.09.32.091151.log (deflated 87%)\n",
            "  adding: content/.config/.last_survey_prompt.yaml (stored 0%)\n",
            "  adding: content/.config/.metricsUUID (stored 0%)\n",
            "  adding: content/0Origfig.jpg (deflated 37%)\n",
            "  adding: content/90Bfig.jpg (deflated 31%)\n",
            "  adding: content/checkpoint/ (stored 0%)\n",
            "  adding: content/checkpoint/resnet18.pth (deflated 8%)\n",
            "  adding: content/ModelManager.py (deflated 82%)\n",
            "  adding: content/0Afig.jpg (deflated 27%)\n",
            "  adding: content/data/ (stored 0%)\n",
            "  adding: content/data/MNIST/ (stored 0%)\n",
            "  adding: content/data/MNIST/processed/ (stored 0%)\n",
            "  adding: content/data/MNIST/processed/test.pt (deflated 79%)\n",
            "  adding: content/data/MNIST/processed/training.pt (deflated 79%)\n",
            "  adding: content/data/MNIST/raw/ (stored 0%)\n",
            "  adding: content/data/MNIST/raw/t10k-labels-idx1-ubyte (deflated 55%)\n",
            "  adding: content/data/MNIST/raw/t10k-labels-idx1-ubyte.gz (stored 0%)\n",
            "  adding: content/data/MNIST/raw/t10k-images-idx3-ubyte.gz (deflated 0%)\n",
            "  adding: content/data/MNIST/raw/train-images-idx3-ubyte (deflated 79%)\n",
            "  adding: content/data/MNIST/raw/t10k-images-idx3-ubyte (deflated 79%)\n",
            "  adding: content/data/MNIST/raw/train-labels-idx1-ubyte (deflated 52%)\n",
            "  adding: content/data/MNIST/raw/train-images-idx3-ubyte.gz (deflated 0%)\n",
            "  adding: content/data/MNIST/raw/train-labels-idx1-ubyte.gz (stored 0%)\n",
            "  adding: content/240Bfig.jpg (deflated 27%)\n",
            "  adding: content/210Shaftfig.jpg (deflated 26%)\n",
            "  adding: content/0Cfig3D.jpg (deflated 13%)\n",
            "  adding: content/270Afig.jpg (deflated 26%)\n",
            "  adding: content/60Cfig3D.jpg (deflated 13%)\n",
            "  adding: content/0Bfig.jpg (deflated 29%)\n",
            "  adding: content/120Shaftfig.jpg (deflated 25%)\n",
            "  adding: content/240Origfig.jpg (deflated 37%)\n",
            "  adding: content/270Origfig.jpg (deflated 39%)\n",
            "  adding: content/150Bfig.jpg (deflated 26%)\n",
            "  adding: content/0Shaftfig.jpg (deflated 27%)\n",
            "  adding: content/30Cfig3D.jpg (deflated 14%)\n",
            "  adding: content/30Origfig.jpg (deflated 33%)\n",
            "  adding: content/150Origfig.jpg (deflated 33%)\n",
            "  adding: content/90Shaftfig.jpg (deflated 24%)\n",
            "  adding: content/30Cfig.jpg (deflated 14%)\n",
            "  adding: content/240Afig.jpg (deflated 26%)\n",
            "  adding: content/120Cfig3D.jpg (deflated 13%)\n",
            "  adding: content/60Origfig.jpg (deflated 37%)\n",
            "  adding: content/240Cfig3D.jpg (deflated 13%)\n",
            "  adding: content/DS.py (deflated 67%)\n",
            "  adding: content/.ipynb_checkpoints/ (stored 0%)\n",
            "  adding: content/210Afig.jpg (deflated 28%)\n",
            "  adding: content/90Cfig3D.jpg (deflated 13%)\n",
            "  adding: content/0Cfig.jpg (deflated 13%)\n",
            "  adding: content/150Cfig3D.jpg (deflated 13%)\n",
            "  adding: content/120Bfig.jpg (deflated 31%)\n",
            "  adding: content/90Origfig.jpg (deflated 46%)\n",
            "  adding: content/60Cfig.jpg (deflated 14%)\n",
            "  adding: content/resnet18.py (deflated 82%)\n",
            "  adding: content/180Bfig.jpg (deflated 28%)\n",
            "  adding: content/30Shaftfig.jpg (deflated 27%)\n",
            "  adding: content/30Bfig.jpg (deflated 27%)\n",
            "  adding: content/loss.py (deflated 51%)\n",
            "  adding: content/60Afig.jpg (deflated 28%)\n",
            "  adding: content/gradCam.py (deflated 72%)\n",
            "  adding: content/30Afig.jpg (deflated 26%)\n",
            "  adding: content/90Cfig.jpg (deflated 14%)\n",
            "  adding: content/120Afig.jpg (deflated 29%)\n",
            "  adding: content/210Cfig3D.jpg (deflated 13%)\n",
            "  adding: content/150Shaftfig.jpg (deflated 29%)\n",
            "  adding: content/180Origfig.jpg (deflated 44%)\n",
            "  adding: content/180Afig.jpg (deflated 28%)\n",
            "  adding: content/270Cfig3D.jpg (deflated 14%)\n",
            "  adding: content/60Bfig.jpg (deflated 28%)\n",
            "  adding: content/210Bfig.jpg (deflated 29%)\n",
            "  adding: content/90Afig.jpg (deflated 31%)\n",
            "  adding: content/180Shaftfig.jpg (deflated 26%)\n",
            "  adding: content/270Bfig.jpg (deflated 27%)\n",
            "  adding: content/120Cfig.jpg (deflated 14%)\n",
            "  adding: content/__pycache__/ (stored 0%)\n",
            "  adding: content/__pycache__/resnet18.cpython-36.pyc (deflated 59%)\n",
            "  adding: content/__pycache__/DS.cpython-36.pyc (deflated 40%)\n",
            "  adding: content/__pycache__/ModelManager.cpython-36.pyc (deflated 47%)\n",
            "  adding: content/__pycache__/loss.cpython-36.pyc (deflated 34%)\n",
            "  adding: content/150Afig.jpg (deflated 25%)\n",
            "  adding: content/main.py (deflated 60%)\n",
            "  adding: content/120Origfig.jpg (deflated 39%)\n",
            "  adding: content/180Cfig3D.jpg (deflated 13%)\n",
            "  adding: content/60Shaftfig.jpg (deflated 30%)\n",
            "  adding: content/240Shaftfig.jpg (deflated 26%)\n",
            "  adding: content/270Shaftfig.jpg (deflated 26%)\n",
            "  adding: content/210Origfig.jpg (deflated 38%)\n",
            "  adding: content/model/ (stored 0%)\n",
            "  adding: content/sample_data/ (stored 0%)\n",
            "  adding: content/sample_data/anscombe.json (deflated 83%)\n",
            "  adding: content/sample_data/README.md (deflated 42%)\n",
            "  adding: content/sample_data/california_housing_test.csv (deflated 76%)\n",
            "  adding: content/sample_data/california_housing_train.csv (deflated 79%)\n",
            "  adding: content/sample_data/mnist_train_small.csv (deflated 88%)\n",
            "  adding: content/sample_data/mnist_test.csv (deflated 88%)\n"
          ],
          "name": "stdout"
        }
      ]
    },
    {
      "cell_type": "code",
      "metadata": {
        "colab": {
          "base_uri": "https://localhost:8080/",
          "height": 180
        },
        "id": "TZgheAD4hQkW",
        "outputId": "e5d98d08-78c9-4853-8f3f-5a4593a0bd2e"
      },
      "source": [
        "import os\r\n",
        "os.rmdir('checkpoint',)"
      ],
      "execution_count": 38,
      "outputs": [
        {
          "output_type": "error",
          "ename": "OSError",
          "evalue": "ignored",
          "traceback": [
            "\u001b[0;31m---------------------------------------------------------------------------\u001b[0m",
            "\u001b[0;31mOSError\u001b[0m                                   Traceback (most recent call last)",
            "\u001b[0;32m<ipython-input-38-c099139968eb>\u001b[0m in \u001b[0;36m<module>\u001b[0;34m()\u001b[0m\n\u001b[1;32m      1\u001b[0m \u001b[0;32mimport\u001b[0m \u001b[0mos\u001b[0m\u001b[0;34m\u001b[0m\u001b[0;34m\u001b[0m\u001b[0m\n\u001b[0;32m----> 2\u001b[0;31m \u001b[0mos\u001b[0m\u001b[0;34m.\u001b[0m\u001b[0mrmdir\u001b[0m\u001b[0;34m(\u001b[0m\u001b[0;34m'checkpoint'\u001b[0m\u001b[0;34m)\u001b[0m\u001b[0;34m\u001b[0m\u001b[0;34m\u001b[0m\u001b[0m\n\u001b[0m",
            "\u001b[0;31mOSError\u001b[0m: [Errno 39] Directory not empty: 'checkpoint'"
          ]
        }
      ]
    },
    {
      "cell_type": "code",
      "metadata": {
        "colab": {
          "base_uri": "https://localhost:8080/"
        },
        "id": "gT42R-JDmJgH",
        "outputId": "5e6bd079-2b90-4dad-e8d1-73b4e7a9e139"
      },
      "source": [
        "!ls"
      ],
      "execution_count": 35,
      "outputs": [
        {
          "output_type": "stream",
          "text": [
            "0Afig.jpg\t 180Afig.jpg\t  270Cfig3D.jpg    90Cfig3D.jpg\n",
            "0Bfig.jpg\t 180Bfig.jpg\t  270Origfig.jpg   90Cfig.jpg\n",
            "0Cfig3D.jpg\t 180Cfig3D.jpg\t  270Shaftfig.jpg  90Origfig.jpg\n",
            "0Cfig.jpg\t 180Origfig.jpg   30Afig.jpg\t   90Shaftfig.jpg\n",
            "0Origfig.jpg\t 180Shaftfig.jpg  30Bfig.jpg\t   checkpoint\n",
            "0Shaftfig.jpg\t 210Afig.jpg\t  30Cfig3D.jpg\t   content.zip\n",
            "120Afig.jpg\t 210Bfig.jpg\t  30Cfig.jpg\t   data\n",
            "120Bfig.jpg\t 210Cfig3D.jpg\t  30Origfig.jpg    DS.py\n",
            "120Cfig3D.jpg\t 210Origfig.jpg   30Shaftfig.jpg   gradCam.py\n",
            "120Cfig.jpg\t 210Shaftfig.jpg  60Afig.jpg\t   loss.py\n",
            "120Origfig.jpg\t 240Afig.jpg\t  60Bfig.jpg\t   main.py\n",
            "120Shaftfig.jpg  240Bfig.jpg\t  60Cfig3D.jpg\t   model\n",
            "150Afig.jpg\t 240Cfig3D.jpg\t  60Cfig.jpg\t   ModelManager.py\n",
            "150Bfig.jpg\t 240Origfig.jpg   60Origfig.jpg    __pycache__\n",
            "150Cfig3D.jpg\t 240Shaftfig.jpg  60Shaftfig.jpg   resnet18.py\n",
            "150Origfig.jpg\t 270Afig.jpg\t  90Afig.jpg\t   sample_data\n",
            "150Shaftfig.jpg  270Bfig.jpg\t  90Bfig.jpg\n"
          ],
          "name": "stdout"
        }
      ]
    },
    {
      "cell_type": "code",
      "metadata": {
        "colab": {
          "base_uri": "https://localhost:8080/"
        },
        "id": "YEDu2YeqmVwS",
        "outputId": "8c435987-b18e-449a-fe45-80e7fd686052"
      },
      "source": [
        "import torch\r\n",
        "a=torch.tensor([1,2,3])\r\n",
        "b=torch.tensor([3,2,3])\r\n",
        "z = torch.eq(a,b).nonzero()\r\n",
        "z[1]"
      ],
      "execution_count": 48,
      "outputs": [
        {
          "output_type": "execute_result",
          "data": {
            "text/plain": [
              "tensor([2])"
            ]
          },
          "metadata": {
            "tags": []
          },
          "execution_count": 48
        }
      ]
    },
    {
      "cell_type": "code",
      "metadata": {
        "id": "5qq8M4W0oknf"
      },
      "source": [
        ""
      ],
      "execution_count": null,
      "outputs": []
    }
  ]
}